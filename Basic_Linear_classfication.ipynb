{
  "nbformat": 4,
  "nbformat_minor": 0,
  "metadata": {
    "colab": {
      "name": "Basic Linear classfication.ipynb",
      "provenance": [],
      "collapsed_sections": []
    },
    "kernelspec": {
      "name": "python3",
      "display_name": "Python 3"
    },
    "language_info": {
      "name": "python"
    }
  },
  "cells": [
    {
      "cell_type": "code",
      "execution_count": null,
      "metadata": {
        "id": "q6oNqRKzirkV"
      },
      "outputs": [],
      "source": [
        "%tensorflow_version 2.x\n",
        "from __future__ import absolute_import, division, print_function, unicode_literals\n",
        "import tensorflow as tf\n",
        "import pandas as pd"
      ]
    },
    {
      "cell_type": "code",
      "source": [
        "CSV_COLUMN_NAMES = ['SepalLength', 'SepalWidth', 'PetalLength', 'PetalWidth', 'Species']\n",
        "SPECIES = ['Setosa', 'Versicolor', 'Virginica']\n",
        "#just for convinience\n",
        "#Get data\n",
        "train_path = tf.keras.utils.get_file(\n",
        "    \"iris_training.csv\", \"https://storage.googleapis.com/download.tensorflow.org/data/iris_training.csv\")\n",
        "test_path = tf.keras.utils.get_file(\n",
        "    \"iris_test.csv\", \"https://storage.googleapis.com/download.tensorflow.org/data/iris_test.csv\")\n",
        "\n",
        "train = pd.read_csv(train_path, names=CSV_COLUMN_NAMES, header=0)\n",
        "test = pd.read_csv(test_path, names=CSV_COLUMN_NAMES, header=0)\n",
        "\n",
        "train.head()    #Species are already defined numerically\n",
        "\n",
        "train_y = train.pop('Species')  #remove label from the data\n",
        "test_y = test.pop('Species')\n",
        "train.head()\n",
        "train.shape\n",
        "train.keys()    #Gives us all the columns in the dataframe"
      ],
      "metadata": {
        "id": "SEeLukbCkMp2"
      },
      "execution_count": null,
      "outputs": []
    },
    {
      "cell_type": "code",
      "source": [
        "#We dont have epochs here. see more types of input functions to get an idea how they work and how to code\n",
        "def input_fn(features, labels, training=True, batch_size=256):\n",
        "    \"\"\"An input function for training or evaluating\"\"\"\n",
        "    # Convert the inputs to a Dataset.\n",
        "    dataset = tf.data.Dataset.from_tensor_slices((dict(features), labels))\n",
        "\n",
        "    # Shuffle and repeat if you are in training mode.\n",
        "    if training:\n",
        "        dataset = dataset.shuffle(1000).repeat()\n",
        "\n",
        "    return dataset.batch(batch_size)\n"
      ],
      "metadata": {
        "id": "PJ2tdE54zIOJ"
      },
      "execution_count": null,
      "outputs": []
    },
    {
      "cell_type": "code",
      "source": [
        "#feature columns\n",
        "# Feature columns describe how to use the input.\n",
        "my_feature_columns = []\n",
        "for key in train.keys():\n",
        "    my_feature_columns.append(tf.feature_column.numeric_column(key=key))\n"
      ],
      "metadata": {
        "id": "6BvXjLAkzz0r"
      },
      "execution_count": null,
      "outputs": []
    },
    {
      "cell_type": "code",
      "source": [
        "# Build a Deep Neural network (DNN) with 2 hidden layers with 30 and 10 hidden nodes each.\n",
        "#tf.estimator stores a some premade models from tensor flow\n",
        "classifier = tf.estimator.DNNClassifier(        \n",
        "    feature_columns=my_feature_columns,\n",
        "    # Two hidden layers of 30 and 10 nodes respectively.\n",
        "    hidden_units=[30, 10],\n",
        "    # The model must choose between 3 classes.\n",
        "    n_classes=3)\n",
        "\n",
        "\n",
        "#Training the model\n",
        "#lambda is a single line function. It does whatever is written after :\n",
        "#Eg:\n",
        "# x = lambda: print(\"hi\")\n",
        "# x()\n",
        "#Just like calling a function inside a function\n",
        "\n",
        "classifier.train(\n",
        "    input_fn=lambda: input_fn(train, train_y, training=True),   #Similar to the last \"function inside a function\" in the previous code\n",
        "    steps=5000) #Steps is similar to epochs\n"
      ],
      "metadata": {
        "id": "jDVC6-MXmSXF"
      },
      "execution_count": null,
      "outputs": []
    },
    {
      "cell_type": "code",
      "source": [
        "eval_result = classifier.evaluate(input_fn=lambda: input_fn(test, test_y, training=False))\n",
        "\n",
        "print('\\nTest set accuracy: {accuracy:0.3f}\\n'.format(**eval_result))\n"
      ],
      "metadata": {
        "id": "cKi_VOBhqR8l"
      },
      "execution_count": null,
      "outputs": []
    },
    {
      "cell_type": "code",
      "source": [
        "#Prediction for a single input\n",
        "\n",
        "def input_fn(features, batch_size=256):\n",
        "    #Convert input to a dataset without labels\n",
        "    return tf.data.Dataset.from_tensor_slices(dict(features)).batch(batch_size)\n",
        "\n",
        "features = ['SepalLength', 'SepalWidth', 'PetalLength', 'PetalWidth']\n",
        "\n",
        "predict = {}\n",
        "\n",
        "print(\"Please type numeric values as prompted\")\n",
        "\n",
        "for feature in features:\n",
        "    valid = True\n",
        "    while valid:\n",
        "        val = input(feature + \": \")\n",
        "        if not val.isdigit(): valid = False\n",
        "\n",
        "    predict[feature] = [float(val)]\n",
        "\n",
        "predictions = classifier.predict(input_fn=lambda: input_fn(predict))\n",
        "\n",
        "for pred_dict in predictions:\n",
        "    print(pred_dict)\n",
        "    class_id = pred_dict['class_ids'][0]\n",
        "    print(\"Species is \", 3.SPECIES[class_id])\n",
        "    probability = pred_dict['probabilities'][class_id]\n",
        "    print(\"Probability is \", 100*probability)\n",
        "\n"
      ],
      "metadata": {
        "colab": {
          "base_uri": "https://localhost:8080/"
        },
        "id": "NZpgtR7oq38f",
        "outputId": "903fac87-1d2e-47bf-d972-c0f6e97bedc7"
      },
      "execution_count": null,
      "outputs": [
        {
          "output_type": "stream",
          "name": "stdout",
          "text": [
            "Please type numeric values as prompted\n",
            "SepalLength: 1.2\n",
            "SepalWidth: .2\n",
            "PetalLength: 5.2\n",
            "PetalWidth: 3.1\n",
            "INFO:tensorflow:Calling model_fn.\n",
            "INFO:tensorflow:Done calling model_fn.\n",
            "INFO:tensorflow:Graph was finalized.\n",
            "INFO:tensorflow:Restoring parameters from /tmp/tmpd2l9yvdt/model.ckpt-5000\n",
            "INFO:tensorflow:Running local_init_op.\n",
            "INFO:tensorflow:Done running local_init_op.\n",
            "{'logits': array([-0.9990073,  1.9139899,  3.7607677], dtype=float32), 'probabilities': array([0.00734583, 0.13525078, 0.85740334], dtype=float32), 'class_ids': array([2]), 'classes': array([b'2'], dtype=object), 'all_class_ids': array([0, 1, 2], dtype=int32), 'all_classes': array([b'0', b'1', b'2'], dtype=object)}\n",
            "Species is  Virginica\n",
            "Probability is  85.74033379554749\n"
          ]
        }
      ]
    }
  ]
}